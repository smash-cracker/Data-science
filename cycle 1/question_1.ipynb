{
 "cells": [
  {
   "cell_type": "code",
   "execution_count": 9,
   "id": "8833cf30",
   "metadata": {},
   "outputs": [
    {
     "name": "stdout",
     "output_type": "stream",
     "text": [
      "Numbers:\n",
      "[7 3]\n",
      "[5 8]\n",
      "Greater\n",
      "[ True False]\n",
      "Greater_equal\n",
      "[ True False]\n",
      "Less\n",
      "[False  True]\n",
      "Less_equal\n",
      "[False  True]\n"
     ]
    }
   ],
   "source": [
    "import numpy as np\n",
    "x = np.array([7,3])\n",
    "y = np.array([5,8])\n",
    "print(\"Numbers:\")\n",
    "print(x)\n",
    "print(y)\n",
    "print(\"Greater\")\n",
    "print(np.greater(x, y))\n",
    "print(\"Greater_equal\")\n",
    "print(np.greater_equal(x, y))\n",
    "print(\"Less\")\n",
    "print(np.less(x, y))\n",
    "print(\"Less_equal\")\n",
    "print(np.less_equal(x, y))"
   ]
  }
 ],
 "metadata": {
  "kernelspec": {
   "display_name": "Python 3 (ipykernel)",
   "language": "python",
   "name": "python3"
  },
  "language_info": {
   "codemirror_mode": {
    "name": "ipython",
    "version": 3
   },
   "file_extension": ".py",
   "mimetype": "text/x-python",
   "name": "python",
   "nbconvert_exporter": "python",
   "pygments_lexer": "ipython3",
   "version": "3.8.0"
  }
 },
 "nbformat": 4,
 "nbformat_minor": 5
}
