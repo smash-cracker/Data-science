{
 "cells": [
  {
   "cell_type": "code",
   "execution_count": 1,
   "id": "41a7286a",
   "metadata": {},
   "outputs": [
    {
     "name": "stdout",
     "output_type": "stream",
     "text": [
      "array1 :\n",
      "[[5 3 2]\n",
      " [6 3 8]]\n",
      "array2 :\n",
      "[[5 3 2]\n",
      " [6 3 8]]\n",
      "result\n"
     ]
    },
    {
     "ename": "NameError",
     "evalue": "name 'mat1_53' is not defined",
     "output_type": "error",
     "traceback": [
      "\u001b[0;31m---------------------------------------------------------------------------\u001b[0m",
      "\u001b[0;31mNameError\u001b[0m                                 Traceback (most recent call last)",
      "Input \u001b[0;32mIn [1]\u001b[0m, in \u001b[0;36m<cell line: 9>\u001b[0;34m()\u001b[0m\n\u001b[1;32m      7\u001b[0m \u001b[38;5;28mprint\u001b[39m(matrix_1_31)\n\u001b[1;32m      8\u001b[0m \u001b[38;5;28mprint\u001b[39m(\u001b[38;5;124m\"\u001b[39m\u001b[38;5;124mresult\u001b[39m\u001b[38;5;124m\"\u001b[39m)\n\u001b[0;32m----> 9\u001b[0m \u001b[38;5;28mprint\u001b[39m(np\u001b[38;5;241m.\u001b[39mmultiply(\u001b[43mmat1_53\u001b[49m,mat2_53))\n",
      "\u001b[0;31mNameError\u001b[0m: name 'mat1_53' is not defined"
     ]
    }
   ],
   "source": [
    "import numpy as np\n",
    "matrix_1_31=np.array([[5,3,2],[6,3,8]])\n",
    "matrix_2_31=np.array([[6,8,3],[5,7,1]])\n",
    "print(\"array1 :\")\n",
    "print(matrix_1_31)\n",
    "print(\"array2 :\")\n",
    "print(matrix_1_31)\n",
    "print(\"result\")\n",
    "print(np.multiply(mat1_53,mat2_53))"
   ]
  },
  {
   "cell_type": "code",
   "execution_count": null,
   "id": "c644f9fd",
   "metadata": {},
   "outputs": [],
   "source": []
  },
  {
   "cell_type": "code",
   "execution_count": null,
   "id": "fe6e6677",
   "metadata": {},
   "outputs": [],
   "source": []
  }
 ],
 "metadata": {
  "kernelspec": {
   "display_name": "Python 3 (ipykernel)",
   "language": "python",
   "name": "python3"
  },
  "language_info": {
   "codemirror_mode": {
    "name": "ipython",
    "version": 3
   },
   "file_extension": ".py",
   "mimetype": "text/x-python",
   "name": "python",
   "nbconvert_exporter": "python",
   "pygments_lexer": "ipython3",
   "version": "3.8.0"
  }
 },
 "nbformat": 4,
 "nbformat_minor": 5
}
