{
 "cells": [
  {
   "cell_type": "code",
   "execution_count": 1,
   "id": "7430ab14",
   "metadata": {},
   "outputs": [
    {
     "name": "stdout",
     "output_type": "stream",
     "text": [
      "Array Before:\n",
      "[[4 7]\n",
      " [5 6]]\n",
      "Sum of all elements:\n",
      "22\n",
      "Sum of column:\n",
      "[ 9 13]\n",
      "Sum of row:\n",
      "[11 11]\n"
     ]
    }
   ],
   "source": [
    "import numpy as np\n",
    "matrix31 = np.array([[4,7],[5,6]])\n",
    "print(\"Array Before:\")\n",
    "print(matrix31)\n",
    "print(\"Sum of all elements:\")\n",
    "print(np.sum(matrix31))\n",
    "print(\"Sum of column:\")\n",
    "print(np.sum(matrix31, axis=0))\n",
    "print(\"Sum of row:\")\n",
    "print(np.sum(matrix31, axis=1))\n"
   ]
  },
  {
   "cell_type": "code",
   "execution_count": null,
   "id": "eaa7e854",
   "metadata": {},
   "outputs": [],
   "source": []
  },
  {
   "cell_type": "code",
   "execution_count": null,
   "id": "21983d87",
   "metadata": {},
   "outputs": [],
   "source": []
  },
  {
   "cell_type": "code",
   "execution_count": null,
   "id": "ccdcefa2",
   "metadata": {},
   "outputs": [],
   "source": []
  }
 ],
 "metadata": {
  "kernelspec": {
   "display_name": "Python 3 (ipykernel)",
   "language": "python",
   "name": "python3"
  },
  "language_info": {
   "codemirror_mode": {
    "name": "ipython",
    "version": 3
   },
   "file_extension": ".py",
   "mimetype": "text/x-python",
   "name": "python",
   "nbconvert_exporter": "python",
   "pygments_lexer": "ipython3",
   "version": "3.8.0"
  }
 },
 "nbformat": 4,
 "nbformat_minor": 5
}
