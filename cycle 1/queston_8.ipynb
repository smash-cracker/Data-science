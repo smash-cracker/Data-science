{
 "cells": [
  {
   "cell_type": "code",
   "execution_count": 4,
   "id": "4850432e",
   "metadata": {},
   "outputs": [
    {
     "name": "stdout",
     "output_type": "stream",
     "text": [
      "\n",
      "Original arrays:\n",
      "[0.2 0.7 1.5]\n",
      "[0.54 1.2  0.54]\n",
      "\n",
      " Two arrays equal or not\n",
      "[ True  True  True]\n"
     ]
    }
   ],
   "source": [
    "import numpy as np\n",
    "array_1_31 = np.array([0.2, 0.7, 1.5])\n",
    "array_2_31 = np.array([0.54, 1.2, 0.54])\n",
    "print(\"\\nOriginal arrays:\")\n",
    "np.set_printoptions(precision=10)\n",
    "print(array_1_31)\n",
    "print(array_2_31)\n",
    "print(\"\\n Two arrays equal or not\")\n",
    "print(np.equal(array_1_31, array_1_31))"
   ]
  },
  {
   "cell_type": "code",
   "execution_count": null,
   "id": "ed00e23b",
   "metadata": {},
   "outputs": [],
   "source": []
  }
 ],
 "metadata": {
  "kernelspec": {
   "display_name": "Python 3 (ipykernel)",
   "language": "python",
   "name": "python3"
  },
  "language_info": {
   "codemirror_mode": {
    "name": "ipython",
    "version": 3
   },
   "file_extension": ".py",
   "mimetype": "text/x-python",
   "name": "python",
   "nbconvert_exporter": "python",
   "pygments_lexer": "ipython3",
   "version": "3.8.0"
  }
 },
 "nbformat": 4,
 "nbformat_minor": 5
}
